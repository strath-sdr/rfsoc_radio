{
 "cells": [
  {
   "cell_type": "markdown",
   "metadata": {},
   "source": [
    "<img src=\"images/strathsdr_banner.png\" align=\"left\">"
   ]
  },
  {
   "cell_type": "markdown",
   "metadata": {},
   "source": [
    "# RFSoC Multiple Board BPSK Radio Demonstration\n",
    "\n",
    "----\n",
    "\n",
    "<div class=\"alert alert-box alert-info\">\n",
    "Please use Jupyter Labs http://board_ip_address/lab for this notebook.\n",
    "</div>\n",
    "\n",
    "This demonstrator presents a Binary Phase Shift Keying (BPSK) radio system design for the Zynq UltraScale+ RFSoC [1].  This BPSK system can enable two boards to communicate with one another. If you own two RFSoC2x2, RFSoC4x2, or ZCU111 development boards, then you can use this notebook on each platform to allow each board to communicate using BPSK.\n",
    "\n",
    "* If you own two RFSoC2x2 platforms, jump straight to [Hardware Setup for RFSoC2x2](#hardware-setup-for-rfsoc2x2).\n",
    "* If you own two RFSoC4x2 platforms, jump straight to [Hardware Setup for RFSoC4x2](#hardware-setup-for-rfsoc4x2).\n",
    "* If you own two ZCU111 platforms, jump straight to [Hardware Setup for ZCU111](#hardware-setup-for-zcu111).\n",
    "* If you own two different RFSoC boards, jump straight to [Hardware Setup for Different Boards](#hardware-setup-for-different-boards).\n",
    "\n",
    "## Table of Contents\n",
    "* [Introduction](#introduction)\n",
    "    * [Hardware Setup for RFSoC2x2](#hardware-setup-for-rfsoc2x2)\n",
    "    * [Hardware Setup for RFSoC4x2](#hardware-setup-for-rfsoc4x2)\n",
    "    * [Hardware Setup for ZCU111](#hardware-setup-for-zcu111)\n",
    "    * [Hardware Setup for Mismatched Boards](#hardware-setup-for-mismatched-boards)\n",
    "    * [General Safety Notice](#general-safety-notice)\n",
    "* [Running the BPSK Radio](#running-the-bpsk-radio)\n",
    "* [Conclusion](#conclusion)\n",
    "\n",
    "## References\n",
    "* [Xilinx, Inc, \"USP RF Data Converter: LogiCORE IP Product Guide\", PG269, v2.3, June 2020](https://www.xilinx.com/support/documentation/ip_documentation/usp_rf_data_converter/v2_3/pg269-rf-data-converter.pdf)\n",
    "\n",
    "## Revision History\n",
    "* **v1.0** | 24/02/2021 | RFSoC BPSK multiboard radio demonstrator\n",
    "* **v2.0** | 16/03/2022 | Updated for RFSoC4x2"
   ]
  },
  {
   "cell_type": "markdown",
   "metadata": {},
   "source": [
    "----"
   ]
  },
  {
   "cell_type": "markdown",
   "metadata": {},
   "source": [
    "## Introduction\n",
    "This notebook demonstrates a simple BPSK transceiver design using multiple development boards. If you would like to know more about the BPSK radio design, navigate to this [notebook](rfsoc_bpsk_demonstrator.ipynb) instead. Follow the hardware-setup steps below to prepare your development boards for the BPSK multiboard demonstration."
   ]
  },
  {
   "cell_type": "markdown",
   "metadata": {},
   "source": [
    "### Hardware Setup for RFSoC2x2 <a class=\"anchor\" id=\"hardware-setup-for-rfsoc2x2\"></a>\n",
    "Your RFSoC2x2 development boards should be setup in dual channel mode. There are four SMA interfaces on your board that are labelled DAC1, DAC2, ADC1, and ADC2. To setup your boards for this demonstration, you can connect two channels as shown in [Figure 1](#fig-1).\n",
    "\n",
    "The default configuration in this demonstration for two RFSoC2x2 platforms is as follows:\n",
    "* Board One DAC1 to Board Two ADC1\n",
    "* Board One ADC1 to Board Two DAC1\n",
    "\n",
    "<a class=\"anchor\" id=\"fig-1\"></a>\n",
    "<figure>\n",
    "<img src='./images/multiboard_setup_rfsoc2x2.png' height='50%' width='50%'/>\n",
    "    <figcaption><b>Figure 1: RFSoC2x2 multiboard setup.</b></figcaption>\n",
    "</figure>\n",
    "\n",
    "The above connection will be useful for running the BPSK demonstrator for two RFSoC2x2 development boards."
   ]
  },
  {
   "cell_type": "markdown",
   "metadata": {},
   "source": [
    "### Hardware Setup for RFSoC4x2 <a class=\"anchor\" id=\"hardware-setup-for-rfsoc4x2\"></a>\n",
    "Your RFSoC4x2 development boards should be setup in dual channel mode. There are six SMA interfaces on your board that are labelled DAC_A, DAC_B, ADC_A, ADC_B, ADC_C, and ADC_D. To setup your boards for this demonstration, you can connect two channels as shown in [Figure 2](#fig-2).\n",
    "\n",
    "The default configuration in this demonstration for two RFSoC4x2 platforms is as follows:\n",
    "* Board One DAC_A to Board Two ADC_A\n",
    "* Board One ADC_A to Board Two DAC_A\n",
    "\n",
    "<a class=\"anchor\" id=\"fig-2\"></a>\n",
    "<figure>\n",
    "<img src='./images/multiboard_setup_rfsoc4x2.png' height='60%' width='60%'/>\n",
    "    <figcaption><b>Figure 2: RFSoC4x2 multiboard setup.</b></figcaption>\n",
    "</figure>\n",
    "\n",
    "The above connection will be useful for running the BPSK demonstrator for two RFSoC4x2 development boards."
   ]
  },
  {
   "cell_type": "markdown",
   "metadata": {},
   "source": [
    "### Hardware Setup for ZCU111 <a class=\"anchor\" id=\"hardware-setup-for-zcu111\"></a>\n",
    "Your ZCU111 development boards should be setup in dual channel mode. There are several SMA interfaces on your board that are either labelled DAC, or ADC. To setup your boards for this demonstration, you can connect two channels as shown in [Figure 3](#fig-3).\n",
    "\n",
    "The default configuration in this demonstration for two ZCU111 platforms is as follows:\n",
    "* Board One ADC0 (Tile 224 Block 0) to Board Two DAC6 (Tile 229 Block 2)\n",
    "* Board One DAC6 (Tile 229 Block 2) to Board Two ADC0 (Tile 224 Block 0)\n",
    "\n",
    "<a class=\"anchor\" id=\"fig-3\"></a>\n",
    "<figure>\n",
    "<img src='./images/multiboard_setup_zcu111.png' height='75%' width='75%'/>\n",
    "    <figcaption><b>Figure 3: ZCU111 multiboard setup.</b></figcaption>\n",
    "</figure>\n",
    "\n",
    "The above connection will be useful for running the BPSK demonstrator for two ZCU111 development boards."
   ]
  },
  {
   "cell_type": "markdown",
   "metadata": {},
   "source": [
    "### Hardware Setup for Different Boards <a class=\"anchor\" id=\"hardware-setup-for-different-boards\"></a>\n",
    "It is also possible to connect two supported boards which are not the same. For example, you could connect an RFSoC2x2 to an RFSoC4x2, or an RFSoC4x2 to a ZCU111. The important factor here is that you are using the appropriate DAC or ADC for each board, and making sure that the Tx is connected to Rx, and vice versa. The table below shows which connections are valid for each board (you can also use the figures from the previous sections to help you with the connections).\n",
    "\n",
    "\n",
    "|Board | Tx | Rx|\n",
    "|---|---|---|\n",
    "| RFSoC2x2 | DAC1 | ADC1 |\n",
    "| RFSoC4x2 | DAC_A | ADC_A |\n",
    "| ZCU111 | DAC6 | ADC0 |"
   ]
  },
  {
   "cell_type": "markdown",
   "metadata": {},
   "source": [
    "### General Safety Notice <a class=\"anchor\" id=\"general-safety-notice\"></a>\n",
    "\n",
    "<div class=\"alert alert-box alert-danger\">\n",
    "<b>Caution:</b>\n",
    "    In this demonstration, we generate signals using the RFSoC development board. Your device should be setup in loopback mode. You should understand that the RFSoC platform can also transmit RF signals wirelessly. Remember that unlicensed wireless transmission of RF signals may be illegal in your geographical location. Radio signals may also interfere with nearby devices, such as pacemakers and emergency radio equipment. Note that it is also illegal to intercept and decode particular RF signals. If you are unsure, please seek professional support.\n",
    "</div>\n",
    "\n",
    "----\n",
    "\n",
    "## Running the BPSK Radio <a class=\"anchor\" id=\"running-the-bpsk-radio\"></a>\n",
    "Both of your development boards should now be connected to one another using SMA connections. Each board should be powered on and Jupyter Labs opened on this notebook. We are going to open the BPSK radio application on each board by running the following code cells."
   ]
  },
  {
   "cell_type": "code",
   "execution_count": null,
   "metadata": {},
   "outputs": [],
   "source": [
    "from rfsoc_radio.overlay import BpskOverlay"
   ]
  },
  {
   "cell_type": "code",
   "execution_count": null,
   "metadata": {},
   "outputs": [],
   "source": [
    "ol = BpskOverlay()"
   ]
  },
  {
   "cell_type": "code",
   "execution_count": null,
   "metadata": {},
   "outputs": [],
   "source": [
    "ol.bpsk_radio_application()"
   ]
  },
  {
   "cell_type": "markdown",
   "metadata": {},
   "source": [
    "A simple BPSK radio dashboard will appear, allowing you to control the system, inspect the receiver pipeline, and send and receive messages using the ascii terminals."
   ]
  },
  {
   "cell_type": "markdown",
   "metadata": {},
   "source": [
    "## Conclusion <a class=\"anchor\" id=\"conclusion\"></a>\n",
    "This notebook has presented a simple BPSK radio demonstrator that allows multiple RFSoC development to communicate using the RF DCs.\n",
    "\n",
    "----\n",
    "----"
   ]
  }
 ],
 "metadata": {
  "kernelspec": {
   "display_name": "Python 3",
   "language": "python",
   "name": "python3"
  },
  "language_info": {
   "codemirror_mode": {
    "name": "ipython",
    "version": 3
   },
   "file_extension": ".py",
   "mimetype": "text/x-python",
   "name": "python",
   "nbconvert_exporter": "python",
   "pygments_lexer": "ipython3",
   "version": "3.6.9"
  }
 },
 "nbformat": 4,
 "nbformat_minor": 4
}
